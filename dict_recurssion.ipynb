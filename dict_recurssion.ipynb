{
 "cells": [
  {
   "cell_type": "markdown",
   "metadata": {},
   "source": [
    "__Recursion__"
   ]
  },
  {
   "cell_type": "code",
   "execution_count": 1,
   "metadata": {},
   "outputs": [
    {
     "name": "stdout",
     "output_type": "stream",
     "text": [
      "24\n"
     ]
    },
    {
     "data": {
      "text/plain": [
       "24"
      ]
     },
     "execution_count": 1,
     "metadata": {},
     "output_type": "execute_result"
    }
   ],
   "source": [
    "# factorial\n",
    "# n! = n*n-1*n-2.........1\n",
    "# Example: 4! = 4*3*2*1 = 24\n",
    "\n",
    "fact_ = 1\n",
    "\n",
    "# classical way of generating factorial\n",
    "for i in range(1,5):\n",
    "    fact_ = fact_ * i\n",
    "print(fact_)    \n",
    "\n",
    "\n",
    "\n",
    "#Recursive way\n",
    "def fact(n):\n",
    "    if n==1:\n",
    "        return 1\n",
    "    else:\n",
    "        return n*fact(n-1)\n",
    "fact(4)"
   ]
  },
  {
   "cell_type": "code",
   "execution_count": 2,
   "metadata": {},
   "outputs": [
    {
     "name": "stdout",
     "output_type": "stream",
     "text": [
      "6\n",
      "6\n"
     ]
    }
   ],
   "source": [
    "# Matrix mutiplication\n",
    "def matrix_mult(a,b):\n",
    "    result = 0\n",
    "    while b >0:\n",
    "        result = result + a\n",
    "        b = b - 1\n",
    "    return result \n",
    "\n",
    "print(matrix_mult(2,3))\n",
    "\n",
    "\n",
    "# matrix multiplication recurssion\n",
    "def matrix_mult_recc(a,b):\n",
    "    if b==1:\n",
    "        return a\n",
    "    else:\n",
    "        return a + matrix_mult_recc(a, b-1)\n",
    "\n",
    "print(matrix_mult_recc(2,3))"
   ]
  },
  {
   "cell_type": "code",
   "execution_count": 3,
   "metadata": {},
   "outputs": [
    {
     "name": "stdout",
     "output_type": "stream",
     "text": [
      "0\n",
      "1\n",
      "1\n",
      "2\n",
      "3\n",
      "0\n",
      "1\n",
      "1\n",
      "2\n",
      "3\n"
     ]
    }
   ],
   "source": [
    "# Fobonacci numbers \n",
    "# defined as the sum of the preceddings two numbers\n",
    "# 0, 1, 1, 2, 3, 5, 8, 13, 21, 34....\n",
    "\n",
    "# classical way\n",
    "a = 0\n",
    "b = 1\n",
    "print(a)\n",
    "print(b)\n",
    "for i in range(2,5):\n",
    "    c = a + b\n",
    "    print(c)\n",
    "    (a,b)=(b,c)\n",
    "\n",
    "\n",
    "# Recursive way\n",
    "def fib(n):\n",
    "    if n==0:\n",
    "        return 0\n",
    "        \n",
    "    elif n==1:\n",
    "        return 1\n",
    "       \n",
    "    else:\n",
    "        n = fib(n-1)+fib(n-2)\n",
    "        return n\n",
    "        \n",
    "for i in range(5):\n",
    "    print(fib(i))"
   ]
  },
  {
   "cell_type": "markdown",
   "metadata": {},
   "source": [
    "__Dictionaries__"
   ]
  },
  {
   "cell_type": "code",
   "execution_count": 4,
   "metadata": {},
   "outputs": [
    {
     "name": "stdout",
     "output_type": "stream",
     "text": [
      "{'names': ['Ana', 'John', 'Müller', 'Sebastian'], 'grades': ['A', 'B', 'A+', 'C'], 'course': ['Engineering', 'Arts', 'Physics', 'Commercs']}\n"
     ]
    }
   ],
   "source": [
    "# How to save all this info into one datastructures\n",
    "myDict = {'names' :['Ana', 'John','Müller','Sebastian'],\n",
    "          'grades':['A','B','A+','C'],\n",
    "          'course':['Engineering', 'Arts','Physics','Commercs']}\n",
    "\n",
    "print(myDict)\n",
    "\n",
    "# creating dictionaries with curly bracket\n",
    "# it has keys and values as the data\n",
    "# can store list, tuple all types of data structure\n",
    "# dict is mutable\n",
    "# key need to be unique and immutable"
   ]
  },
  {
   "cell_type": "code",
   "execution_count": 5,
   "metadata": {},
   "outputs": [
    {
     "name": "stdout",
     "output_type": "stream",
     "text": [
      "names Ana\n",
      "names John\n",
      "names Müller\n",
      "names Sebastian\n",
      "grades A\n",
      "grades B\n",
      "grades A+\n",
      "grades C\n",
      "course Engineering\n",
      "course Arts\n",
      "course Physics\n",
      "course Commercs\n"
     ]
    }
   ],
   "source": [
    "#lopping through dict\n",
    "\n",
    "for key in myDict:\n",
    "    for values in myDict[key]:\n",
    "        print(key, values)"
   ]
  },
  {
   "cell_type": "code",
   "execution_count": 6,
   "metadata": {},
   "outputs": [
    {
     "data": {
      "text/plain": [
       "['Ana', 'John', 'Müller', 'Sebastian']"
      ]
     },
     "execution_count": 6,
     "metadata": {},
     "output_type": "execute_result"
    }
   ],
   "source": [
    "# similar to indexing, passing the key gives the values associated with it\n",
    "myDict['names']"
   ]
  },
  {
   "cell_type": "code",
   "execution_count": 7,
   "metadata": {},
   "outputs": [
    {
     "data": {
      "text/plain": [
       "{'names': ['Ana', 'John', 'Müller', 'Sebastian', 'Moritz'],\n",
       " 'grades': ['A', 'B', 'A+', 'C'],\n",
       " 'course': ['Engineering', 'Arts', 'Physics', 'Commercs']}"
      ]
     },
     "execution_count": 7,
     "metadata": {},
     "output_type": "execute_result"
    }
   ],
   "source": [
    "# adding the value\n",
    "myDict['names'] = ['Ana', 'John','Müller','Sebastian', 'Moritz']\n",
    "myDict"
   ]
  },
  {
   "cell_type": "code",
   "execution_count": 8,
   "metadata": {},
   "outputs": [
    {
     "data": {
      "text/plain": [
       "{'names': ['Ana', 'John', 'Müller', 'Sebastian', 'Moritz'],\n",
       " 'grades': ['A', 'B', 'A+', 'C', 'A'],\n",
       " 'course': ['Engineering', 'Arts', 'Physics', 'Commercs', 'Informatics']}"
      ]
     },
     "execution_count": 8,
     "metadata": {},
     "output_type": "execute_result"
    }
   ],
   "source": [
    "myDict['grades'] = ['A','B','A+','C','A']\n",
    "myDict['course'] = ['Engineering', 'Arts','Physics','Commercs', 'Informatics']\n",
    "myDict"
   ]
  },
  {
   "cell_type": "code",
   "execution_count": 9,
   "metadata": {},
   "outputs": [
    {
     "name": "stdout",
     "output_type": "stream",
     "text": [
      "True\n",
      "False\n"
     ]
    }
   ],
   "source": [
    "# test if key in dictionary\n",
    "\n",
    "print('names' in myDict)\n",
    "print('sex' in myDict)"
   ]
  },
  {
   "cell_type": "code",
   "execution_count": 10,
   "metadata": {},
   "outputs": [
    {
     "name": "stdout",
     "output_type": "stream",
     "text": [
      "{'names': ['Ana', 'John', 'Sebastian', 'Moritz'], 'grades': ['A', 'B', 'A+', 'C', 'A'], 'course': ['Engineering', 'Arts', 'Physics', 'Commercs', 'Informatics']}\n"
     ]
    }
   ],
   "source": [
    "# delete entry in dict\n",
    "\n",
    "del(myDict['names'][2])  # müller is deleted\n",
    "print(myDict)"
   ]
  },
  {
   "cell_type": "code",
   "execution_count": 11,
   "metadata": {},
   "outputs": [
    {
     "data": {
      "text/plain": [
       "dict_keys(['names', 'grades', 'course'])"
      ]
     },
     "execution_count": 11,
     "metadata": {},
     "output_type": "execute_result"
    }
   ],
   "source": [
    "# all the keys from dictionaries\n",
    "myDict.keys()"
   ]
  },
  {
   "cell_type": "code",
   "execution_count": 12,
   "metadata": {},
   "outputs": [
    {
     "data": {
      "text/plain": [
       "dict_values([['Ana', 'John', 'Sebastian', 'Moritz'], ['A', 'B', 'A+', 'C', 'A'], ['Engineering', 'Arts', 'Physics', 'Commercs', 'Informatics']])"
      ]
     },
     "execution_count": 12,
     "metadata": {},
     "output_type": "execute_result"
    }
   ],
   "source": [
    "# all the values from dictinaries\n",
    "myDict.values()"
   ]
  },
  {
   "cell_type": "markdown",
   "metadata": {},
   "source": [
    "__dict to pandas dataframe__"
   ]
  },
  {
   "cell_type": "code",
   "execution_count": 13,
   "metadata": {},
   "outputs": [
    {
     "data": {
      "text/html": [
       "<div>\n",
       "<style scoped>\n",
       "    .dataframe tbody tr th:only-of-type {\n",
       "        vertical-align: middle;\n",
       "    }\n",
       "\n",
       "    .dataframe tbody tr th {\n",
       "        vertical-align: top;\n",
       "    }\n",
       "\n",
       "    .dataframe thead th {\n",
       "        text-align: right;\n",
       "    }\n",
       "</style>\n",
       "<table border=\"1\" class=\"dataframe\">\n",
       "  <thead>\n",
       "    <tr style=\"text-align: right;\">\n",
       "      <th></th>\n",
       "      <th>velocity</th>\n",
       "      <th>massflow</th>\n",
       "    </tr>\n",
       "  </thead>\n",
       "  <tbody>\n",
       "    <tr>\n",
       "      <th>0</th>\n",
       "      <td>10</td>\n",
       "      <td>0.6</td>\n",
       "    </tr>\n",
       "    <tr>\n",
       "      <th>1</th>\n",
       "      <td>13</td>\n",
       "      <td>0.4</td>\n",
       "    </tr>\n",
       "    <tr>\n",
       "      <th>2</th>\n",
       "      <td>14</td>\n",
       "      <td>0.5</td>\n",
       "    </tr>\n",
       "    <tr>\n",
       "      <th>3</th>\n",
       "      <td>15</td>\n",
       "      <td>0.3</td>\n",
       "    </tr>\n",
       "  </tbody>\n",
       "</table>\n",
       "</div>"
      ],
      "text/plain": [
       "   velocity  massflow\n",
       "0        10       0.6\n",
       "1        13       0.4\n",
       "2        14       0.5\n",
       "3        15       0.3"
      ]
     },
     "execution_count": 13,
     "metadata": {},
     "output_type": "execute_result"
    }
   ],
   "source": [
    "myDict = { 'velocity':[10,13,14,15],\n",
    "            'massflow':[0.6,0.4,0.5,0.3]\n",
    "}\n",
    "\n",
    "\n",
    "import pandas as pd \n",
    "\n",
    "df = pd.DataFrame(myDict)\n",
    "df.head()"
   ]
  },
  {
   "cell_type": "markdown",
   "metadata": {},
   "source": [
    "__Quelle/Reference__\n",
    "<br>\n",
    "__MIT video:https://ocw.mit.edu/courses/6-0001-introduction-to-computer-science-and-programming-in-python-fall-2016/resources/lecture-6-recursion-and-dictionaries/__"
   ]
  },
  {
   "cell_type": "markdown",
   "metadata": {},
   "source": []
  }
 ],
 "metadata": {
  "kernelspec": {
   "display_name": "Python 3.10.5 64-bit",
   "language": "python",
   "name": "python3"
  },
  "language_info": {
   "codemirror_mode": {
    "name": "ipython",
    "version": 3
   },
   "file_extension": ".py",
   "mimetype": "text/x-python",
   "name": "python",
   "nbconvert_exporter": "python",
   "pygments_lexer": "ipython3",
   "version": "3.10.5"
  },
  "orig_nbformat": 4,
  "vscode": {
   "interpreter": {
    "hash": "1e6777404cc7eb28e5b808e7807006eb549a6339bdaf82fda99a64f1f5a83e79"
   }
  }
 },
 "nbformat": 4,
 "nbformat_minor": 2
}
