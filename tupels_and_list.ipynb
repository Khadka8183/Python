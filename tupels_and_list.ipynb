{
 "cells": [
  {
   "cell_type": "code",
   "execution_count": 1,
   "metadata": {},
   "outputs": [
    {
     "name": "stdout",
     "output_type": "stream",
     "text": [
      "5\n",
      "python\n",
      "(2, 4, 'python', 'A')\n"
     ]
    }
   ],
   "source": [
    "# Tupels are immutable and represented by parentheses ()\n",
    "mytuple = (2, 4, 'python', 'A', 5)\n",
    "\n",
    "#length\n",
    "print(len(mytuple))\n",
    "\n",
    "#indexing\n",
    "print(mytuple[2])\n",
    "\n",
    "#slicing\n",
    "print(mytuple[0:4])"
   ]
  },
  {
   "cell_type": "code",
   "execution_count": 2,
   "metadata": {},
   "outputs": [
    {
     "name": "stdout",
     "output_type": "stream",
     "text": [
      "2\n",
      "4\n",
      "python\n",
      "A\n",
      "5\n"
     ]
    }
   ],
   "source": [
    "# looping through tuples\n",
    "for element in mytuple:\n",
    "    print(element)"
   ]
  },
  {
   "cell_type": "code",
   "execution_count": 3,
   "metadata": {},
   "outputs": [
    {
     "ename": "TypeError",
     "evalue": "'tuple' object does not support item assignment",
     "output_type": "error",
     "traceback": [
      "\u001b[1;31m---------------------------------------------------------------------------\u001b[0m",
      "\u001b[1;31mTypeError\u001b[0m                                 Traceback (most recent call last)",
      "\u001b[1;32mc:\\Users\\niroj\\Desktop\\Python\\Python_Basics\\tupels_and_list.ipynb Cell 3'\u001b[0m in \u001b[0;36m<cell line: 2>\u001b[1;34m()\u001b[0m\n\u001b[0;32m      <a href='vscode-notebook-cell:/c%3A/Users/niroj/Desktop/Python/Python_Basics/tupels_and_list.ipynb#ch0000002?line=0'>1</a>\u001b[0m \u001b[39m# Tupels are immutabel\u001b[39;00m\n\u001b[1;32m----> <a href='vscode-notebook-cell:/c%3A/Users/niroj/Desktop/Python/Python_Basics/tupels_and_list.ipynb#ch0000002?line=1'>2</a>\u001b[0m mytuple[\u001b[39m0\u001b[39m] \u001b[39m=\u001b[39m \u001b[39m7\u001b[39m\n",
      "\u001b[1;31mTypeError\u001b[0m: 'tuple' object does not support item assignment"
     ]
    }
   ],
   "source": [
    "# Tupels are immutabel\n",
    "mytuple[0] = 7"
   ]
  },
  {
   "cell_type": "code",
   "execution_count": 4,
   "metadata": {},
   "outputs": [
    {
     "name": "stdout",
     "output_type": "stream",
     "text": [
      "x=10,y=4\n"
     ]
    }
   ],
   "source": [
    "# Returning the variable from function as tuples object\n",
    "def swapping(x,y):\n",
    "    temp = x\n",
    "    x = y\n",
    "    y = temp\n",
    "    return (x,y)\n",
    "\n",
    "#calling the function\n",
    "(x,y) = swapping(x=4, y = 10)\n",
    "print(f'x={x},y={y}')\n"
   ]
  },
  {
   "cell_type": "code",
   "execution_count": 5,
   "metadata": {},
   "outputs": [
    {
     "name": "stdout",
     "output_type": "stream",
     "text": [
      "x=10,y=4\n"
     ]
    }
   ],
   "source": [
    "# The swapping function can be written more cleanly with tuples\n",
    "\n",
    "def swapping_with_tupels(x,y):\n",
    "    (x,y)=(y,x)\n",
    "    return (x,y)\n",
    "\n",
    "#calling the function\n",
    "(x,y) = swapping(x=4, y = 10)\n",
    "print(f'x={x},y={y}')"
   ]
  },
  {
   "cell_type": "code",
   "execution_count": 6,
   "metadata": {},
   "outputs": [
    {
     "name": "stdout",
     "output_type": "stream",
     "text": [
      "(13, 12, 9) ('prime', 'even', 'even')\n"
     ]
    }
   ],
   "source": [
    "#Tuple inside a tuple\n",
    "tuple_inside_tuple = ((13, 'prime'), (12, 'even'), (9, 'even'))\n",
    "\n",
    "num = ()\n",
    "word = ()\n",
    "\n",
    "for key, value in tuple_inside_tuple:\n",
    "    num = num + (key,)\n",
    "    word = word + (value,)\n",
    "\n",
    "\n",
    "print(num,word)"
   ]
  },
  {
   "cell_type": "code",
   "execution_count": 7,
   "metadata": {},
   "outputs": [
    {
     "name": "stdout",
     "output_type": "stream",
     "text": [
      "[13, 12, 9] ['prime', 'even', 'even']\n"
     ]
    }
   ],
   "source": [
    "# Returning list  can be done by  .append() method\n",
    "\n",
    "num = []\n",
    "word = []\n",
    "\n",
    "for key, value in tuple_inside_tuple:\n",
    "    num.append(key)\n",
    "    word.append(value)\n",
    "\n",
    "\n",
    "print(num,word)"
   ]
  },
  {
   "cell_type": "markdown",
   "metadata": {},
   "source": [
    "__list are as opposed to tuples and strings mutable and represented by square bracket__"
   ]
  },
  {
   "cell_type": "code",
   "execution_count": 8,
   "metadata": {},
   "outputs": [
    {
     "name": "stdout",
     "output_type": "stream",
     "text": [
      "[7, 2, 4, 1, 3, 5]\n"
     ]
    }
   ],
   "source": [
    "myList = [1,2,4,1,3,5]\n",
    "myList[0] = 7\n",
    "print(myList)"
   ]
  },
  {
   "cell_type": "code",
   "execution_count": 9,
   "metadata": {},
   "outputs": [
    {
     "name": "stdout",
     "output_type": "stream",
     "text": [
      "5\n",
      "hello\n",
      "[1, 2, 'a']\n"
     ]
    }
   ],
   "source": [
    "s = [1,2,'a',4,'hello']\n",
    "\n",
    "#length\n",
    "print(len(s))\n",
    "\n",
    "#indexing\n",
    "print(s[4])\n",
    "\n",
    "#slicing\n",
    "print(s[0:3])"
   ]
  },
  {
   "cell_type": "code",
   "execution_count": 10,
   "metadata": {},
   "outputs": [
    {
     "name": "stdout",
     "output_type": "stream",
     "text": [
      "28\n"
     ]
    }
   ],
   "source": [
    "# Iterating over list\n",
    "\n",
    "a = [1,4,5,6,2,3,7]\n",
    "\n",
    "#finding the sum of all elements inside the list\n",
    "total =0\n",
    "for i in range(len(a)):\n",
    "    total = total + a[i]\n",
    "print(total)"
   ]
  },
  {
   "cell_type": "code",
   "execution_count": 11,
   "metadata": {},
   "outputs": [
    {
     "name": "stdout",
     "output_type": "stream",
     "text": [
      "28\n"
     ]
    }
   ],
   "source": [
    "#wrting the above iteration in pythonic way\n",
    "a = [1,4,5,6,2,3,7]\n",
    "total =0\n",
    "for i in a:\n",
    "    total = total + i\n",
    "print(total)"
   ]
  },
  {
   "cell_type": "code",
   "execution_count": 12,
   "metadata": {},
   "outputs": [
    {
     "name": "stdout",
     "output_type": "stream",
     "text": [
      "[1, 2, 3, 4]\n",
      "1463333672384\n",
      "[1, 2, 3, 4, 5, 6]\n",
      "1463333672384\n"
     ]
    }
   ],
   "source": [
    "# .append() method for adding the element \n",
    "\n",
    "l = [1,2,3]\n",
    "l.append(4)\n",
    "print(l)\n",
    "\n",
    "\n",
    "# .extend() method for extending the list\n",
    "l1 = [1,2,3,4]\n",
    "#Memmory adress before extending\n",
    "print(id(l1))\n",
    "\n",
    "\n",
    "#Memmory adress after extending\n",
    "l1.extend([5,6])\n",
    "print(l1)\n",
    "print(id(l1))\n",
    "\n",
    "\n",
    "#since the list are mutable, therfore the memory adress should be same in both case"
   ]
  },
  {
   "cell_type": "markdown",
   "metadata": {},
   "source": [
    "__some of the common methods in list__"
   ]
  },
  {
   "cell_type": "code",
   "execution_count": 13,
   "metadata": {},
   "outputs": [
    {
     "name": "stdout",
     "output_type": "stream",
     "text": [
      "73\n",
      "[14, 33, 8, 9, 10]\n",
      "None\n",
      "[14, 8, 9, 10]\n",
      "[14, 8, 10]\n"
     ]
    }
   ],
   "source": [
    "myList = [14,33,8,9,10,73]\n",
    "\n",
    "# .pop() method for deleting last element\n",
    "print(myList.pop()) # the last element\n",
    "print(myList)\n",
    "\n",
    "\n",
    "# .remove() method \n",
    "print(myList.remove(33))  #return None\n",
    "print(myList)\n",
    "\n",
    "#for deleting the element there is also del attribute which need to specified with index\n",
    "del(myList[2])  # should delete 9\n",
    "print(myList)\n"
   ]
  },
  {
   "cell_type": "code",
   "execution_count": 14,
   "metadata": {},
   "outputs": [
    {
     "name": "stdout",
     "output_type": "stream",
     "text": [
      "1463365177024\n",
      "[1, 2, 3, 4, 5, 6, 9, 10]\n",
      "1463365177024\n",
      "1463365177024\n",
      "[1, 2, 3, 4, 5, 6, 9, 10]\n",
      "1463365516608\n"
     ]
    }
   ],
   "source": [
    "# sorting the list\n",
    "s = [1,4,9,6,2,3,5,10]\n",
    "\n",
    "# .sort() method and sorted attribute\n",
    "print(id(s))  #memory adress before sorting\n",
    "s.sort()  #sorting the list\n",
    "print(s)\n",
    "print(id(s)) #memory adress after sorting\n",
    "\n",
    "\n",
    "# sorted attribute return list, does not mutate\n",
    "print(id(s))\n",
    "S = sorted(s)\n",
    "print(S)\n",
    "print(id(S))\n",
    "\n",
    "# The sorted atribute save the sorted list in another location"
   ]
  },
  {
   "cell_type": "code",
   "execution_count": 15,
   "metadata": {},
   "outputs": [
    {
     "name": "stdout",
     "output_type": "stream",
     "text": [
      "[1, 2, 3, 4, 5, 6, 9, 10]\n",
      "[10, 9, 6, 5, 4, 3, 2, 1]\n"
     ]
    }
   ],
   "source": [
    "#reversing the list\n",
    "\n",
    "s = [1,4,9,6,2,3,5,10]\n",
    "\n",
    "#let's first sort this list\n",
    "s.sort()\n",
    "print(s)\n",
    "\n",
    "\n",
    "#reverse the list\n",
    "s.reverse()\n",
    "print(s)"
   ]
  },
  {
   "cell_type": "code",
   "execution_count": 16,
   "metadata": {},
   "outputs": [
    {
     "name": "stdout",
     "output_type": "stream",
     "text": [
      "[1, 2, 3, 4, 5] [1, 2, 3, 4, 5]\n",
      "1463365406464 1463365406464\n"
     ]
    }
   ],
   "source": [
    "# Memory in the list\n",
    "\n",
    "a = [1,2,3,4]\n",
    "b = a\n",
    "\n",
    "\n",
    "#let's append now into the list b and see what happens to a \n",
    "\n",
    "b.append(5)\n",
    "print(b, a)\n",
    "print(id(b), id(a))\n",
    "\n",
    "#here b is an alias for a and therefore changing one change the other one\n",
    "#still a and b have same adress"
   ]
  },
  {
   "cell_type": "code",
   "execution_count": 17,
   "metadata": {},
   "outputs": [
    {
     "name": "stdout",
     "output_type": "stream",
     "text": [
      "1463365488128 1463337412992\n"
     ]
    }
   ],
   "source": [
    "#copying the list\n",
    "\n",
    "a = [1,2,3,4]\n",
    "b = a[:]\n",
    "\n",
    "# Now we have copyed a into b therefore they must have different memmory adress and two different copy\n",
    "print(id(a), id(b))"
   ]
  },
  {
   "cell_type": "code",
   "execution_count": 1,
   "metadata": {},
   "outputs": [
    {
     "name": "stdout",
     "output_type": "stream",
     "text": [
      "[2, 3, 4]\n"
     ]
    }
   ],
   "source": [
    "l1 = [1,2,3,4]\n",
    "l2 = [1,2,5,6]\n",
    "\n",
    "# Aim: remove duplicate elements in l1\n",
    "\n",
    "def remove_duplicate(l1,l2):\n",
    "    for i in l1:\n",
    "        if i in l2:\n",
    "            l1.remove(i)\n",
    "\n",
    "\n",
    "\n",
    "#Since we are directly removing the elements from the orginal list\n",
    "#It is often recommended to avoid mutation, as we can see the list l1 still has duplcate number 2\n",
    "#Python uses an internal counter to keep track of index it is in the loop\n",
    "#mutating changes the list length but Python doesn’t update the counter\n",
    "remove_duplicate(l1,l2)\n",
    "print(l1)"
   ]
  },
  {
   "cell_type": "code",
   "execution_count": 19,
   "metadata": {},
   "outputs": [
    {
     "name": "stdout",
     "output_type": "stream",
     "text": [
      "[3, 4]\n"
     ]
    }
   ],
   "source": [
    "# In such case colning the list would be good idea.\n",
    "l1 = [1,2,3,4]\n",
    "l2 = [1,2,5,6]\n",
    "\n",
    "\n",
    "def remove_duplicate_clone(l1,l2):\n",
    "    l1_copy = l1[:]\n",
    "    for i in l1_copy:\n",
    "        if i in l2:\n",
    "            l1.remove(i)\n",
    "\n",
    "remove_duplicate_clone(l1,l2)\n",
    "print(l1)"
   ]
  },
  {
   "cell_type": "code",
   "execution_count": 20,
   "metadata": {},
   "outputs": [
    {
     "name": "stdout",
     "output_type": "stream",
     "text": [
      "[0, 1, 4, 9, 16]\n"
     ]
    }
   ],
   "source": [
    "# list comprehsnion\n",
    "\n",
    "myList = [i**2 for i in range(5)]\n",
    "print(myList)"
   ]
  },
  {
   "cell_type": "markdown",
   "metadata": {},
   "source": [
    "__Quelle/Reference__\n",
    "<br>\n",
    "__MIT Video:https://ocw.mit.edu/courses/6-0001-introduction-to-computer-science-and-programming-in-python-fall-2016/resources/lecture-5-tuples-lists-aliasing-mutability-and-cloning/__\n",
    "<br>\n",
    "__MIT Slide:https://ocw.mit.edu/courses/6-0001-introduction-to-computer-science-and-programming-in-python-fall-2016/resources/mit6_0001f16_lec5/__"
   ]
  },
  {
   "cell_type": "code",
   "execution_count": null,
   "metadata": {},
   "outputs": [],
   "source": []
  }
 ],
 "metadata": {
  "kernelspec": {
   "display_name": "Python 3.10.5 64-bit",
   "language": "python",
   "name": "python3"
  },
  "language_info": {
   "codemirror_mode": {
    "name": "ipython",
    "version": 3
   },
   "file_extension": ".py",
   "mimetype": "text/x-python",
   "name": "python",
   "nbconvert_exporter": "python",
   "pygments_lexer": "ipython3",
   "version": "3.10.5"
  },
  "orig_nbformat": 4,
  "vscode": {
   "interpreter": {
    "hash": "1e6777404cc7eb28e5b808e7807006eb549a6339bdaf82fda99a64f1f5a83e79"
   }
  }
 },
 "nbformat": 4,
 "nbformat_minor": 2
}
