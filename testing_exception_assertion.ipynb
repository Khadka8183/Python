{
 "cells": [
  {
   "cell_type": "code",
   "execution_count": 1,
   "metadata": {},
   "outputs": [],
   "source": [
    "# try except clause\n",
    "\n",
    "# try:\n",
    "   # runs the code first\n",
    "# except:\n",
    "   # runs if exception occurs in the try block\n",
    "# else:\n",
    "   # will be executed if try block succeeds\n",
    "# finally:\n",
    "   # executes alwyas\n",
    "   "
   ]
  },
  {
   "cell_type": "code",
   "execution_count": 2,
   "metadata": {},
   "outputs": [
    {
     "name": "stdout",
     "output_type": "stream",
     "text": [
      "The result is 1.3333333333333333\n",
      "b cannot be Zero\n",
      "The number is not integer\n"
     ]
    }
   ],
   "source": [
    "def get_division(a, b):\n",
    "    try:\n",
    "        a = int(a)\n",
    "        b = int(b)\n",
    "        print(f'The result is {a/b}')\n",
    "    except ZeroDivisionError:\n",
    "        print('b cannot be Zero')\n",
    "    except ValueError:\n",
    "        print('The number is not integer')\n",
    "\n",
    "get_division(4,3)\n",
    "get_division(4,0)\n",
    "get_division(2,'apple')"
   ]
  },
  {
   "cell_type": "code",
   "execution_count": 3,
   "metadata": {},
   "outputs": [
    {
     "data": {
      "text/plain": [
       "True"
      ]
     },
     "execution_count": 3,
     "metadata": {},
     "output_type": "execute_result"
    }
   ],
   "source": [
    "# assertion \n",
    "10 >= 10"
   ]
  },
  {
   "cell_type": "code",
   "execution_count": 4,
   "metadata": {},
   "outputs": [
    {
     "ename": "AssertionError",
     "evalue": "",
     "output_type": "error",
     "traceback": [
      "\u001b[1;31m---------------------------------------------------------------------------\u001b[0m",
      "\u001b[1;31mAssertionError\u001b[0m                            Traceback (most recent call last)",
      "\u001b[1;32mc:\\Users\\niroj\\Desktop\\Python\\Python_Basics\\testing_exception_assertion.ipynb Cell 4'\u001b[0m in \u001b[0;36m<cell line: 9>\u001b[1;34m()\u001b[0m\n\u001b[0;32m      <a href='vscode-notebook-cell:/c%3A/Users/niroj/Desktop/Python/Python_Basics/testing_exception_assertion.ipynb#ch0000003?line=3'>4</a>\u001b[0m \u001b[39massert\u001b[39;00m a \u001b[39m>\u001b[39m b\n\u001b[0;32m      <a href='vscode-notebook-cell:/c%3A/Users/niroj/Desktop/Python/Python_Basics/testing_exception_assertion.ipynb#ch0000003?line=5'>6</a>\u001b[0m \u001b[39m# so here it is asserting that a is bigger than b\u001b[39;00m\n\u001b[0;32m      <a href='vscode-notebook-cell:/c%3A/Users/niroj/Desktop/Python/Python_Basics/testing_exception_assertion.ipynb#ch0000003?line=6'>7</a>\u001b[0m \u001b[39m# what happens if a is samller than b \u001b[39;00m\n\u001b[1;32m----> <a href='vscode-notebook-cell:/c%3A/Users/niroj/Desktop/Python/Python_Basics/testing_exception_assertion.ipynb#ch0000003?line=8'>9</a>\u001b[0m \u001b[39massert\u001b[39;00m a \u001b[39m<\u001b[39m b\n",
      "\u001b[1;31mAssertionError\u001b[0m: "
     ]
    }
   ],
   "source": [
    "# let's define two value \n",
    "a = 10  \n",
    "b = 2\n",
    "assert a > b\n",
    "\n",
    "# so here it is asserting that a is bigger than b\n",
    "# what happens if a is samller than b \n",
    "\n",
    "assert a < b\n",
    "\n",
    "# so it raises AssertionError\n",
    "# this Error can be included in try except clauses\n",
    "# look example below"
   ]
  },
  {
   "cell_type": "code",
   "execution_count": 5,
   "metadata": {},
   "outputs": [
    {
     "name": "stdout",
     "output_type": "stream",
     "text": [
      "The mutiplication of 60 and 40 is = 2400\n",
      "a is smaller than 50, pls make sure a is bigger than 50\n"
     ]
    }
   ],
   "source": [
    "# let's mutiply two number \n",
    "# where the first number should be greater than 50 \n",
    "\n",
    "def get_mutiply(a,b):\n",
    "    try:\n",
    "        a = int(a)\n",
    "        b = int(b)\n",
    "        assert a>50\n",
    "        print(f'The mutiplication of {a} and {b} is = {a*b}')\n",
    "    except AssertionError:\n",
    "        print('a is smaller than 50, pls make sure a is bigger than 50')\n",
    "    except ValueError:\n",
    "        print('Value is not integer')\n",
    "\n",
    "get_mutiply(60, 40)\n",
    "get_mutiply(40, 60)"
   ]
  },
  {
   "cell_type": "code",
   "execution_count": 10,
   "metadata": {},
   "outputs": [
    {
     "name": "stdout",
     "output_type": "stream",
     "text": [
      "The mutiplication of 30 and 50 is = 1500\n",
      "value is not Integer\n",
      "value is not Integer\n"
     ]
    }
   ],
   "source": [
    "# here asserting that the value a and b are integer\n",
    "\n",
    "def get_mutiply_(a,b):\n",
    "    try:\n",
    "        assert type(a) is int\n",
    "        assert type(b) is int\n",
    "        print(f'The mutiplication of {a} and {b} is = {a*b}')\n",
    "    except AssertionError:\n",
    "        print('value is not Integer')\n",
    "\n",
    "get_mutiply_(30,50)\n",
    "get_mutiply_('a',3)\n",
    "get_mutiply_(1.3, 2)"
   ]
  },
  {
   "cell_type": "markdown",
   "metadata": {},
   "source": [
    "__Quelle/Reference__\n",
    "<br>\n",
    "__MIT video:https://ocw.mit.edu/courses/6-0001-introduction-to-computer-science-and-programming-in-python-fall-2016/resources/lecture-7-testing-debugging-exceptions-and-assertions/__\n"
   ]
  },
  {
   "cell_type": "markdown",
   "metadata": {},
   "source": []
  }
 ],
 "metadata": {
  "kernelspec": {
   "display_name": "Python 3.10.5 64-bit",
   "language": "python",
   "name": "python3"
  },
  "language_info": {
   "codemirror_mode": {
    "name": "ipython",
    "version": 3
   },
   "file_extension": ".py",
   "mimetype": "text/x-python",
   "name": "python",
   "nbconvert_exporter": "python",
   "pygments_lexer": "ipython3",
   "version": "3.10.5"
  },
  "orig_nbformat": 4,
  "vscode": {
   "interpreter": {
    "hash": "1e6777404cc7eb28e5b808e7807006eb549a6339bdaf82fda99a64f1f5a83e79"
   }
  }
 },
 "nbformat": 4,
 "nbformat_minor": 2
}
