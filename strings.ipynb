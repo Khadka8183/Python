{
 "cells": [
  {
   "cell_type": "code",
   "execution_count": 1,
   "metadata": {},
   "outputs": [
    {
     "name": "stdout",
     "output_type": "stream",
     "text": [
      "HelloWorld\n",
      "Hello World\n",
      "5\n"
     ]
    }
   ],
   "source": [
    "s = 'Hello'\n",
    "p = 'World'\n",
    "\n",
    "#concatinate\n",
    "print(s + p)\n",
    "\n",
    "#concatinate\n",
    "print(s + ' '+  p)\n",
    "\n",
    "#length\n",
    "print(len(s))"
   ]
  },
  {
   "cell_type": "markdown",
   "metadata": {},
   "source": [
    "__Indexing__"
   ]
  },
  {
   "cell_type": "code",
   "execution_count": 2,
   "metadata": {},
   "outputs": [
    {
     "name": "stdout",
     "output_type": "stream",
     "text": [
      "H e l\n",
      "o\n"
     ]
    }
   ],
   "source": [
    "#indexing\n",
    "print(s[0], s[1], s[2])\n",
    "\n",
    "#indexing, last character\n",
    "print(s[-1])\n"
   ]
  },
  {
   "cell_type": "markdown",
   "metadata": {},
   "source": [
    "__Slicing__"
   ]
  },
  {
   "cell_type": "code",
   "execution_count": 3,
   "metadata": {},
   "outputs": [
    {
     "name": "stdout",
     "output_type": "stream",
     "text": [
      "asd\n",
      "adjb22dla\n",
      "asdkjfb1212sdklnas\n",
      "sanlkds2121bfjkdsa\n",
      "ec\n"
     ]
    }
   ],
   "source": [
    "#slicing[start:stop]\n",
    "s = 'asdkjfb1212sdklnas'\n",
    "print(s[0:3])\n",
    "\n",
    "\n",
    "#slicing[start:stop:step]\n",
    "print(s[0:-1:2])\n",
    "\n",
    "\n",
    "#slicing[::] = s[0:len(s):1]\n",
    "print(s[::])\n",
    "\n",
    "#slicing[::-1] = s[-1:-len(s)+1:-1]  for reversing the strings\n",
    "print(s[::-1])\n",
    "\n",
    "#slicing\n",
    "s = 'abcde'\n",
    "print(s[4:1:-2])\n"
   ]
  },
  {
   "cell_type": "code",
   "execution_count": 4,
   "metadata": {},
   "outputs": [
    {
     "name": "stdout",
     "output_type": "stream",
     "text": [
      "abcde abcde abcde \n"
     ]
    }
   ],
   "source": [
    "# string can be mutiplied \n",
    "s = 'abcde'\n",
    "print((s + ' ')*3)"
   ]
  },
  {
   "cell_type": "markdown",
   "metadata": {},
   "source": [
    "__string are immutable = once it is created can not be modified__"
   ]
  },
  {
   "cell_type": "code",
   "execution_count": 5,
   "metadata": {},
   "outputs": [
    {
     "ename": "TypeError",
     "evalue": "'str' object does not support item assignment",
     "output_type": "error",
     "traceback": [
      "\u001b[1;31m---------------------------------------------------------------------------\u001b[0m",
      "\u001b[1;31mTypeError\u001b[0m                                 Traceback (most recent call last)",
      "\u001b[1;32mc:\\Users\\niroj\\Desktop\\Python\\Python_Basics\\strings.ipynb Cell 8'\u001b[0m in \u001b[0;36m<cell line: 2>\u001b[1;34m()\u001b[0m\n\u001b[0;32m      <a href='vscode-notebook-cell:/c%3A/Users/niroj/Desktop/Python/Python_Basics/strings.ipynb#ch0000008?line=0'>1</a>\u001b[0m s \u001b[39m=\u001b[39m \u001b[39m'\u001b[39m\u001b[39mhello\u001b[39m\u001b[39m'\u001b[39m\n\u001b[1;32m----> <a href='vscode-notebook-cell:/c%3A/Users/niroj/Desktop/Python/Python_Basics/strings.ipynb#ch0000008?line=1'>2</a>\u001b[0m s[\u001b[39m0\u001b[39m] \u001b[39m=\u001b[39m \u001b[39m'\u001b[39m\u001b[39my\u001b[39m\u001b[39m'\u001b[39m\n\u001b[0;32m      <a href='vscode-notebook-cell:/c%3A/Users/niroj/Desktop/Python/Python_Basics/strings.ipynb#ch0000008?line=2'>3</a>\u001b[0m \u001b[39mprint\u001b[39m(s)\n",
      "\u001b[1;31mTypeError\u001b[0m: 'str' object does not support item assignment"
     ]
    }
   ],
   "source": [
    "s = 'hello'\n",
    "s[0] = 'y'\n",
    "print(s)"
   ]
  },
  {
   "cell_type": "markdown",
   "metadata": {},
   "source": [
    "__lopping through strings__"
   ]
  },
  {
   "cell_type": "code",
   "execution_count": 6,
   "metadata": {},
   "outputs": [
    {
     "name": "stdout",
     "output_type": "stream",
     "text": [
      "H\n",
      "e\n",
      "l\n",
      "l\n",
      "o\n",
      " \n",
      "P\n",
      "y\n",
      "t\n",
      "h\n",
      "o\n",
      "n\n"
     ]
    }
   ],
   "source": [
    "long_string = 'Hello Python'\n",
    "\n",
    "for char in long_string:\n",
    "    print(char)"
   ]
  },
  {
   "cell_type": "markdown",
   "metadata": {},
   "source": [
    "__Some of the common Methods for working with String__"
   ]
  },
  {
   "cell_type": "code",
   "execution_count": 7,
   "metadata": {},
   "outputs": [
    {
     "name": "stdout",
     "output_type": "stream",
     "text": [
      "HELLO  PYTHON\n",
      "python\n",
      "hello \n"
     ]
    }
   ],
   "source": [
    "s = 'hello  python'\n",
    "\n",
    "# .upper() .lower()\n",
    "print(s.upper())\n",
    "\n",
    "\n",
    "#strip\n",
    "s = 'python+,,,,,,,-******'\n",
    "print(s.strip('+,-*'))\n",
    "\n",
    "\n",
    "#.rstrip() .lstrip()\n",
    "s = ' hello '\n",
    "print(s.lstrip(' '))\n",
    "\n",
    "\n"
   ]
  },
  {
   "cell_type": "code",
   "execution_count": 8,
   "metadata": {},
   "outputs": [
    {
     "name": "stdout",
     "output_type": "stream",
     "text": [
      "['hello', 'python']\n",
      "Hello Python !\n",
      "Hello+Python+!\n"
     ]
    }
   ],
   "source": [
    "# .split()\n",
    "s = 'hello+python'\n",
    "print(s.split('+'))\n",
    "\n",
    "#.join()\n",
    "myList = [\"Hello\", \"Python\", \"!\"]\n",
    "x = \" \".join(myList)\n",
    "print(x)\n",
    "\n",
    "#another example of .join() method\n",
    "x = \"+\".join(myList)\n",
    "print(x)"
   ]
  },
  {
   "cell_type": "markdown",
   "metadata": {},
   "source": [
    "__formatting the text in Print statement__"
   ]
  },
  {
   "cell_type": "code",
   "execution_count": 9,
   "metadata": {},
   "outputs": [
    {
     "name": "stdout",
     "output_type": "stream",
     "text": [
      "Hello Python welcome to this programme\n",
      "Hello python welcome to this programme\n"
     ]
    }
   ],
   "source": [
    "s = 'welcome'\n",
    "\n",
    "print('Hello Python {} to this programme'.format(s))\n",
    "print(f'Hello python {s} to this programme')"
   ]
  },
  {
   "cell_type": "markdown",
   "metadata": {},
   "source": [
    "__Quelle/Reference:__\n",
    ">> __MIT Video:https://ocw.mit.edu/courses/6-0001-introduction-to-computer-science-and-programming-in-python-fall-2016/resources/lecture-3-string-manipulation-guess-and-check-approximations-bisection/__\n",
    "<br>\n",
    ">> __MIT Slide:https://ocw.mit.edu/courses/6-0001-introduction-to-computer-science-and-programming-in-python-fall-2016/resources/mit6_0001f16_lec3/__\n",
    "<br>\n",
    ">>__W3schools:https://www.w3schools.com/python/ref_string_find.asp__"
   ]
  },
  {
   "cell_type": "markdown",
   "metadata": {},
   "source": []
  }
 ],
 "metadata": {
  "kernelspec": {
   "display_name": "Python 3.10.5 64-bit",
   "language": "python",
   "name": "python3"
  },
  "language_info": {
   "codemirror_mode": {
    "name": "ipython",
    "version": 3
   },
   "file_extension": ".py",
   "mimetype": "text/x-python",
   "name": "python",
   "nbconvert_exporter": "python",
   "pygments_lexer": "ipython3",
   "version": "3.10.5"
  },
  "orig_nbformat": 4,
  "vscode": {
   "interpreter": {
    "hash": "1e6777404cc7eb28e5b808e7807006eb549a6339bdaf82fda99a64f1f5a83e79"
   }
  }
 },
 "nbformat": 4,
 "nbformat_minor": 2
}
