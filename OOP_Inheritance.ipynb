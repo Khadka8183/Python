{
 "cells": [
  {
   "cell_type": "code",
   "execution_count": 1,
   "metadata": {},
   "outputs": [],
   "source": [
    "#          parent class A\n",
    "#          chlid class B\n",
    "#          child class C\n",
    "class A():\n",
    "    def printing(self):\n",
    "        print('Printing class A')\n",
    "\n",
    "class B(A):\n",
    "    def scanning(self):\n",
    "        print('Scanning class B')\n",
    "\n",
    "class C(B):\n",
    "    def copying(self):\n",
    "        print('Copying class C')"
   ]
  },
  {
   "cell_type": "code",
   "execution_count": 2,
   "metadata": {},
   "outputs": [
    {
     "name": "stdout",
     "output_type": "stream",
     "text": [
      "Copying class C\n",
      "Scanning class B\n",
      "Printing class A\n"
     ]
    }
   ],
   "source": [
    "# create object of C\n",
    "c = C()\n",
    "\n",
    "# acess the method of other class from class C\n",
    "c.copying()  \n",
    "c.scanning()\n",
    "c.printing()"
   ]
  },
  {
   "cell_type": "code",
   "execution_count": 3,
   "metadata": {},
   "outputs": [
    {
     "name": "stdout",
     "output_type": "stream",
     "text": [
      "Car with 4 wheels and 2 doors\n"
     ]
    }
   ],
   "source": [
    "# let's look at another example\n",
    "\n",
    "class Vehicle():\n",
    "\n",
    "    def __init__(self, doors, wheels):\n",
    "        self.doors = doors\n",
    "        self.wheels = wheels\n",
    "\n",
    "    def __str__(self):\n",
    "        return 'Vehical with ' + str(self.wheels) + ' wheels and ' + str(self.doors) + ' doors'\n",
    "\n",
    "\n",
    "# another child class from vehicle class\n",
    "\n",
    "class Car(Vehicle):\n",
    "\n",
    "    def __init__(self, is_electric, doors, wheels):\n",
    "        super().__init__(doors, wheels)\n",
    "        self.is_electric = is_electric\n",
    "\n",
    "    def __str__(self):\n",
    "        return 'Car with ' + str(self.wheels) + ' wheels and ' + str(self.doors) + ' doors'\n",
    "\n",
    "\n",
    "\n",
    "# create first car object\n",
    "first_car = Car('True',2,4)\n",
    "\n",
    "# __str__() method of car has overwritten the orginal __str__() method from vehical class\n",
    "print(first_car)"
   ]
  },
  {
   "cell_type": "code",
   "execution_count": 4,
   "metadata": {},
   "outputs": [
    {
     "name": "stdout",
     "output_type": "stream",
     "text": [
      "Car with 4 wheels and 2 doors\n"
     ]
    }
   ],
   "source": [
    "# the aatributes of parent class can be directly accessed with key word *args and **kwargs\n",
    "\n",
    "class Vehicle_01():\n",
    "\n",
    "    def __init__(self, doors, wheels):\n",
    "        self.doors = doors\n",
    "        self.wheels = wheels\n",
    "\n",
    "    def __str__(self):\n",
    "        return 'Vehical with ' + str(self.wheels) + ' wheels and ' + str(self.doors) + ' doors'\n",
    "\n",
    "\n",
    "# another child class from vehicle class\n",
    "\n",
    "class Car_01(Vehicle_01):\n",
    "\n",
    "    def __init__(self, is_electric, *args, **kwargs):\n",
    "        super().__init__(*args, **kwargs)\n",
    "        self.is_electric = is_electric\n",
    "\n",
    "    def __str__(self):\n",
    "        return 'Car with ' + str(self.wheels) + ' wheels and ' + str(self.doors) + ' doors'\n",
    "\n",
    "\n",
    "\n",
    "# create first car object\n",
    "first_car = Car_01(is_electric='True', doors = 2, wheels= 4)\n",
    "\n",
    "# __str__() method of car has overwritten the orginal __str__() method from vehical class\n",
    "print(first_car)"
   ]
  },
  {
   "cell_type": "markdown",
   "metadata": {},
   "source": [
    "__Mutiple Inheritance__"
   ]
  },
  {
   "cell_type": "code",
   "execution_count": 7,
   "metadata": {},
   "outputs": [
    {
     "name": "stdout",
     "output_type": "stream",
     "text": [
      "Child class D\n",
      "Child class B\n",
      "parent class A\n",
      "Child class C\n",
      "parent class A\n"
     ]
    }
   ],
   "source": [
    "#               *              one Parent class A\n",
    "#             *   *            two child class  B and c inheritate from parent class A\n",
    "#               *              fourth class D inheritate from class B and C\n",
    "\n",
    "# Essentialy this is diamond problem from mutiple inheritance\n",
    "\n",
    "#Now this section tries to answer why super.__init__() is  usefull ?\n",
    "\n",
    "\n",
    "class A():\n",
    "    def __init__(self):\n",
    "        print('parent class A')\n",
    "\n",
    "class B(A):\n",
    "    def __init__(self):\n",
    "        print('Child class B')\n",
    "        A.__init__(self)  # for Inheritance from class A\n",
    "\n",
    "class C(A):\n",
    "    def __init__(self):\n",
    "        print('Child class C')\n",
    "        A.__init__(self) # for Inheritance from class A\n",
    "\n",
    "\n",
    "class D(B,C):\n",
    "    def __init__(self):\n",
    "        print('Child class D')   \n",
    "        B.__init__(self) # for Inheritance from class B\n",
    "        C.__init__(self) # for Inheritance from class C\n",
    "\n",
    "\n",
    "d = D()\n",
    "\n",
    "# Now if we look at the result, it is quiet intersting, as the parent class has been called twice\n",
    "# since class B and C inheritate from class A, it calls class A two times.\n",
    "\n",
    "# -------------working-----------\n",
    "# object d call init function of Class D --> print(Child class D)\n",
    "# class  D call init function of Class B --> print(child class B) \n",
    "# class  B call init function of Class A --> print(child class A) \n",
    "# class  D call init function of Class C --> print(child class C) \n",
    "# class  C call init function of Class A --> print(child class A) \n",
    "\n",
    "\n",
    "# here the class A is called twice from class B and C\n",
    "# to avoid this problem, super().__init__() is used to inheritate instead of B.__init__(self)\n",
    "# look example below\n"
   ]
  },
  {
   "cell_type": "code",
   "execution_count": 6,
   "metadata": {},
   "outputs": [
    {
     "name": "stdout",
     "output_type": "stream",
     "text": [
      "Child class D\n",
      "Child class B\n",
      "Child class C\n",
      "parent class A\n"
     ]
    }
   ],
   "source": [
    "class A_():\n",
    "    def __init__(self):\n",
    "        print('parent class A')\n",
    "\n",
    "class B_(A_):\n",
    "    def __init__(self):\n",
    "        print('Child class B')\n",
    "        super().__init__()\n",
    "\n",
    "class C_(A_):\n",
    "    def __init__(self):\n",
    "        print('Child class C')\n",
    "        super().__init__()\n",
    "\n",
    "\n",
    "class D_(B_,C_):\n",
    "    def __init__(self):\n",
    "        print('Child class D')   \n",
    "        super().__init__()\n",
    "\n",
    "\n",
    "\n",
    "d = D_()\n",
    "\n",
    "# supper().__init__() automatically figure it out that the parent class should be called only one time."
   ]
  },
  {
   "cell_type": "markdown",
   "metadata": {},
   "source": [
    "__Quelle/Reference__\n",
    "<br>\n",
    "__MIT:Video:https://ocw.mit.edu/courses/6-0001-introduction-to-computer-science-and-programming-in-python-fall-2016/resources/lecture-9-python-classes-and-inheritance/__\n",
    "<br>\n",
    "__Corey Schafer:Youtbe:https://www.youtube.com/watch?v=RSl87lqOXDE__\n",
    "<br>\n",
    "__Sebastian Mathôt:Youtbe:https://www.youtube.com/watch?v=zS0HyfN7Pm4__"
   ]
  },
  {
   "cell_type": "markdown",
   "metadata": {},
   "source": []
  }
 ],
 "metadata": {
  "kernelspec": {
   "display_name": "Python 3.10.5 64-bit",
   "language": "python",
   "name": "python3"
  },
  "language_info": {
   "codemirror_mode": {
    "name": "ipython",
    "version": 3
   },
   "file_extension": ".py",
   "mimetype": "text/x-python",
   "name": "python",
   "nbconvert_exporter": "python",
   "pygments_lexer": "ipython3",
   "version": "3.10.5"
  },
  "orig_nbformat": 4,
  "vscode": {
   "interpreter": {
    "hash": "1e6777404cc7eb28e5b808e7807006eb549a6339bdaf82fda99a64f1f5a83e79"
   }
  }
 },
 "nbformat": 4,
 "nbformat_minor": 2
}
