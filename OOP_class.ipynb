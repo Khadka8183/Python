{
 "cells": [
  {
   "cell_type": "markdown",
   "metadata": {},
   "source": [
    "__class__\n"
   ]
  },
  {
   "cell_type": "code",
   "execution_count": 1,
   "metadata": {},
   "outputs": [],
   "source": [
    "# define class with keyword 'class' followed by the name you want to assign it\n",
    "\n",
    "class living_beings():\n",
    "    pass"
   ]
  },
  {
   "cell_type": "code",
   "execution_count": 2,
   "metadata": {},
   "outputs": [
    {
     "name": "stdout",
     "output_type": "stream",
     "text": [
      "The name of the student is Bastain, 30 years old and currently enrolled in Bachelor programme. \n",
      "The name of the student is Lukas, 28 years old and currently enrolled in Master programme. \n",
      "<class '__main__.student'>\n",
      "<__main__.student object at 0x000001FEA1EC2BF0>\n"
     ]
    }
   ],
   "source": [
    "# let's create simple class called student, that has it's name, age and degree\n",
    "\n",
    "class student():\n",
    "\n",
    "    # Intialization of the attributes of class student\n",
    "    def __init__(self, name, age, degree):\n",
    "        self.name = name\n",
    "        self.age = age \n",
    "        self.degree = degree\n",
    "    \n",
    "    # method\n",
    "    def get_info(self):\n",
    "        print(f'The name of the student is {self.name}, {self.age} years old and currently enrolled in {self.degree} programme. ')\n",
    "\n",
    "\n",
    "# create student object \n",
    "student_1 = student('Bastain', 30, 'Bachelor')\n",
    "student_2 = student('Lukas', 28, 'Master')\n",
    "\n",
    "#let's call method get_info() in the student_1 and student_2\n",
    "student_1.get_info()\n",
    "student_2.get_info()\n",
    "\n",
    "\n",
    "# let's print the student class and student_1 object\n",
    "print(student)\n",
    "print(student_1)\n",
    "\n",
    "# By printing student_1, it is not displaying the proper information of its attributes, i.e. name, age, degree\n",
    "# for this purpose the __str__() method need to be implemented, see below"
   ]
  },
  {
   "cell_type": "code",
   "execution_count": 3,
   "metadata": {},
   "outputs": [],
   "source": [
    "# let's create people class having their name and age\n",
    "# Implement also the getter and setter\n",
    "# getter and setter should be used outside the class to access the data attributes\n",
    "\n",
    "class People():\n",
    "\n",
    "    # Intialization of the attributes of class People\n",
    "    def __init__(self, name, age):\n",
    "        self.name = name\n",
    "        self.age = age\n",
    "\n",
    "    # standward way of accesing the attributes with getter\n",
    "    def get_name(self):\n",
    "        print(f'The name is {self.name} ')\n",
    "    def get_age(self):\n",
    "        print(f'Age is {self.age}')\n",
    "\n",
    "        \n",
    "    # standward way of setting the attributes with setters\n",
    "    def set_name(self, new_name):\n",
    "        self.name = new_name\n",
    "    def set_age(self,new_age):\n",
    "        self.age = new_age\n",
    "\n",
    "    # string method for displaying the info of the class\n",
    "    def __str__(self):\n",
    "        return 'People: name= ' + str(self.name) + ' age=' + str(self.age)\n",
    "    "
   ]
  },
  {
   "cell_type": "code",
   "execution_count": 4,
   "metadata": {},
   "outputs": [],
   "source": [
    "# let's create first object of type people\n",
    "\n",
    "first_person = People('John steinmeinster', 40)\n",
    "second_person = People('Sebi Siplle', 35)"
   ]
  },
  {
   "cell_type": "code",
   "execution_count": 5,
   "metadata": {},
   "outputs": [
    {
     "name": "stdout",
     "output_type": "stream",
     "text": [
      "Age is 40\n",
      "Age is 35\n"
     ]
    }
   ],
   "source": [
    "# with getter we can get the info of the person \n",
    "# this works like method for example .append() .remove() .sort() etc\n",
    "\n",
    "first_person.get_age()\n",
    "second_person.get_age()"
   ]
  },
  {
   "cell_type": "code",
   "execution_count": 6,
   "metadata": {},
   "outputs": [
    {
     "name": "stdout",
     "output_type": "stream",
     "text": [
      "The name is Heinrich Hein \n"
     ]
    }
   ],
   "source": [
    "# with setter we can set the name and age of the person\n",
    "first_person.set_name('Heinrich Hein')\n",
    "first_person.get_name()"
   ]
  },
  {
   "cell_type": "code",
   "execution_count": 7,
   "metadata": {},
   "outputs": [
    {
     "name": "stdout",
     "output_type": "stream",
     "text": [
      "<class '__main__.People'>\n",
      "People: name= Heinrich Hein age=40\n"
     ]
    }
   ],
   "source": [
    "# __str__() method for displaying the information of created object\n",
    "print(People) \n",
    "print(first_person)\n"
   ]
  },
  {
   "cell_type": "markdown",
   "metadata": {},
   "source": [
    "__class variables__"
   ]
  },
  {
   "cell_type": "code",
   "execution_count": 8,
   "metadata": {},
   "outputs": [],
   "source": [
    "class Employee():\n",
    "\n",
    "    raise_rate = 1.04 # class salary\n",
    "\n",
    "    def __init__(self, name, adress, salary):\n",
    "        self.name = name\n",
    "        self.adress = adress\n",
    "        self.salary = salary\n",
    "    \n",
    "    #method/getter\n",
    "    def get_name(self):\n",
    "        print(f\"The employee's name is {self.name}\")\n",
    "\n",
    "    #method/getter\n",
    "    def get_adress(self):\n",
    "        print(f'Adress:{self.adress}')\n",
    "\n",
    "    #Info\n",
    "    def __str__(self):\n",
    "        return 'Name: ' + str(self.name) + ' Adress: ' + str(self.adress) + ' Salary: ' + str(self.salary)\n",
    "\n",
    "    # Apply raise\n",
    "    def apply_raise(self):\n",
    "        self.salary = self.salary * self.raise_rate"
   ]
  },
  {
   "cell_type": "code",
   "execution_count": 9,
   "metadata": {},
   "outputs": [
    {
     "name": "stdout",
     "output_type": "stream",
     "text": [
      "Name: Boris John Adress: london Salary: 8000\n",
      "{'name': 'Boris John', 'adress': 'london', 'salary': 8000}\n"
     ]
    }
   ],
   "source": [
    "empolyee_01 = Employee('Boris John', 'london', 8000)\n",
    "empolyee_02 = Employee('Angeul Mark', 'Berlin', 7000)\n",
    "\n",
    "print(empolyee_01)\n",
    "print(empolyee_01.__dict__)"
   ]
  },
  {
   "cell_type": "code",
   "execution_count": 10,
   "metadata": {},
   "outputs": [
    {
     "name": "stdout",
     "output_type": "stream",
     "text": [
      "1.04\n",
      "1.04\n",
      "1.04\n"
     ]
    }
   ],
   "source": [
    "print(Employee.raise_rate)\n",
    "print(empolyee_01.raise_rate)\n",
    "print(empolyee_02.raise_rate)"
   ]
  },
  {
   "cell_type": "code",
   "execution_count": 11,
   "metadata": {},
   "outputs": [
    {
     "name": "stdout",
     "output_type": "stream",
     "text": [
      "Name: Boris John Adress: london Salary: 8400.0\n"
     ]
    }
   ],
   "source": [
    "#now let's apply the raise to employee 1\n",
    "empolyee_01.raise_rate = 1.05\n",
    "\n",
    "empolyee_01.apply_raise()\n",
    "print(empolyee_01)\n",
    "\n",
    "#as we can see the raise has been applied to empolyee_1. how about employee_2?"
   ]
  },
  {
   "cell_type": "code",
   "execution_count": 12,
   "metadata": {},
   "outputs": [
    {
     "name": "stdout",
     "output_type": "stream",
     "text": [
      "Name: Angeul Mark Adress: Berlin Salary: 7000\n",
      "1.04\n",
      "1.05\n",
      "1.04\n"
     ]
    }
   ],
   "source": [
    "print(empolyee_02)\n",
    "\n",
    "# employee_2 still has its orginal salary\n",
    "# the raise is only applied to employee_1\n",
    "\n",
    "print(Employee.raise_rate)\n",
    "print(empolyee_01.raise_rate)\n",
    "print(empolyee_02.raise_rate)"
   ]
  },
  {
   "cell_type": "code",
   "execution_count": 13,
   "metadata": {},
   "outputs": [
    {
     "name": "stdout",
     "output_type": "stream",
     "text": [
      "Name: Natur korb Adress: Newyork Salary: 6300.0\n",
      "Name: Mark buffalo Adress: Paris Salary: 8400.0\n"
     ]
    }
   ],
   "source": [
    "#In order to change the raise for all the employee, set Employee.raise_rate = 1.05\n",
    "\n",
    "empolyee_03 = Employee('Natur korb', 'Newyork', 6000)\n",
    "empolyee_04 = Employee('Mark buffalo', 'Paris', 8000)\n",
    "\n",
    "# empolyee_3 and 4 has the orginal salary of 6000 and 8000 respectively\n",
    "# now apply the raise and see what happens to the salary\n",
    "\n",
    "# let's apply the raise to all the employee\n",
    "Employee.raise_rate = 1.05\n",
    "\n",
    "# apply the raise\n",
    "empolyee_03.apply_raise()\n",
    "empolyee_04.apply_raise()\n",
    "\n",
    "# print the Info \n",
    "print(empolyee_03)\n",
    "print(empolyee_04)"
   ]
  },
  {
   "cell_type": "markdown",
   "metadata": {},
   "source": [
    "__Quelle/Reference__\n",
    "<br>\n",
    "__MIT:Slide:https://ocw.mit.edu/courses/6-0001-introduction-to-computer-science-and-programming-in-python-fall-2016/resources/mit6_0001f16_lec9/__\n",
    "<br>\n",
    "__Corey Schafer:Youtbe:https://www.youtube.com/watch?v=RSl87lqOXDE__"
   ]
  },
  {
   "cell_type": "markdown",
   "metadata": {},
   "source": []
  }
 ],
 "metadata": {
  "kernelspec": {
   "display_name": "Python 3.10.5 64-bit",
   "language": "python",
   "name": "python3"
  },
  "language_info": {
   "codemirror_mode": {
    "name": "ipython",
    "version": 3
   },
   "file_extension": ".py",
   "mimetype": "text/x-python",
   "name": "python",
   "nbconvert_exporter": "python",
   "pygments_lexer": "ipython3",
   "version": "3.10.5"
  },
  "orig_nbformat": 4,
  "vscode": {
   "interpreter": {
    "hash": "1e6777404cc7eb28e5b808e7807006eb549a6339bdaf82fda99a64f1f5a83e79"
   }
  }
 },
 "nbformat": 4,
 "nbformat_minor": 2
}
